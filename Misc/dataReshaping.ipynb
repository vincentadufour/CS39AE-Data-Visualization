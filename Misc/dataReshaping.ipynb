{
 "cells": [
  {
   "cell_type": "code",
   "execution_count": 2,
   "metadata": {},
   "outputs": [
    {
     "name": "stdout",
     "output_type": "stream",
     "text": [
      "Wide format:\n",
      "   Student  Math  Science\n",
      "0    Aiden    90       86\n",
      "1    Blair    93       94\n",
      "2      Lin    85       88\n",
      "3  Vincent    90       92\n",
      "4    Calli    98       80\n",
      "5     Samr    91       87\n",
      "6  Emerson    89       98\n",
      "\n",
      "Long format:\n",
      "    Student  Subject  Score\n",
      "0     Aiden     Math     90\n",
      "1     Blair     Math     93\n",
      "2       Lin     Math     85\n",
      "3   Vincent     Math     90\n",
      "4     Calli     Math     98\n",
      "5      Samr     Math     91\n",
      "6   Emerson     Math     89\n",
      "7     Aiden  Science     86\n",
      "8     Blair  Science     94\n",
      "9       Lin  Science     88\n",
      "10  Vincent  Science     92\n",
      "11    Calli  Science     80\n",
      "12     Samr  Science     87\n",
      "13  Emerson  Science     98\n"
     ]
    }
   ],
   "source": [
    "import pandas as pd\n",
    "\n",
    "# Sample DataFrame in wide format\n",
    "df_wide = pd.DataFrame({\n",
    "    'Student': ['Aiden','Blair','Lin', 'Vincent', 'Calli','Samr','Emerson'],\n",
    "    'Math': [90, 93,85, 90, 98,91,89],\n",
    "    'Science': [86, 94,88, 92, 80,87,98]\n",
    "})\n",
    "\n",
    "# Reshaping from wide to long format\n",
    "df_long = pd.melt(df_wide, id_vars=['Student'], value_vars=['Math', 'Science'], \n",
    "                  var_name='Subject', value_name='Score')\n",
    "\n",
    "print(\"Wide format:\")\n",
    "print(df_wide)\n",
    "print(\"\\nLong format:\")\n",
    "print(df_long)\n"
   ]
  },
  {
   "cell_type": "code",
   "execution_count": 4,
   "metadata": {},
   "outputs": [
    {
     "name": "stdout",
     "output_type": "stream",
     "text": [
      "Average Salary by Department:\n",
      "  Department   Salary\n",
      "0         HR  62500.0\n",
      "1  Marketing  70000.0\n",
      "2      Sales  75000.0\n"
     ]
    }
   ],
   "source": [
    "# Sample DataFrame\n",
    "df = pd.DataFrame({\n",
    "    'Department': ['Sales', 'Sales', 'Marketing', 'Marketing', 'HR', 'HR'],\n",
    "    'Employee': ['Christopher', 'Noor', 'Luis', 'Noora', 'Danny', 'Antonio'],\n",
    "    'Salary': [70000, 80000, 65000, 75000, 60000, 65000]\n",
    "})\n",
    "\n",
    "# Grouping by department and calculating mean salary\n",
    "department_salary = df.groupby('Department')['Salary'].mean().reset_index()\n",
    "\n",
    "print(\"Average Salary by Department:\")\n",
    "print(department_salary)\n"
   ]
  },
  {
   "cell_type": "code",
   "execution_count": 5,
   "metadata": {},
   "outputs": [
    {
     "name": "stdout",
     "output_type": "stream",
     "text": [
      "Total Sales by Region:\n",
      "        Sales\n",
      "Region       \n",
      "East     2200\n",
      "North    2500\n",
      "South    2000\n"
     ]
    }
   ],
   "source": [
    "# Sample hierarchical data\n",
    "df_hierarchical = pd.DataFrame({\n",
    "    'Region': ['North', 'North', 'South', 'South', 'East', 'East'],\n",
    "    'City': ['New York', 'Boston', 'Miami', 'Dallas', 'Philadelphia', 'Atlanta'],\n",
    "    'Sales': [1000, 1500, 800, 1200, 1300, 900]\n",
    "})\n",
    "\n",
    "# Setting hierarchical index\n",
    "df_hierarchical.set_index(['Region', 'City'], inplace=True)\n",
    "\n",
    "# Summarizing sales by region\n",
    "region_sales = df_hierarchical.groupby(level='Region').sum()\n",
    "\n",
    "print(\"Total Sales by Region:\")\n",
    "print(region_sales)"
   ]
  },
  {
   "cell_type": "code",
   "execution_count": null,
   "metadata": {},
   "outputs": [],
   "source": []
  }
 ],
 "metadata": {
  "kernelspec": {
   "display_name": "Python 3",
   "language": "python",
   "name": "python3"
  },
  "language_info": {
   "codemirror_mode": {
    "name": "ipython",
    "version": 3
   },
   "file_extension": ".py",
   "mimetype": "text/x-python",
   "name": "python",
   "nbconvert_exporter": "python",
   "pygments_lexer": "ipython3",
   "version": "3.10.12"
  }
 },
 "nbformat": 4,
 "nbformat_minor": 2
}
