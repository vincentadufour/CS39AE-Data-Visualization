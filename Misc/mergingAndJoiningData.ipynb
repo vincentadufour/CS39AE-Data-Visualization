{
 "cells": [
  {
   "cell_type": "markdown",
   "metadata": {},
   "source": [
    "## Inner, Left, Right, Outer Joins"
   ]
  },
  {
   "cell_type": "code",
   "execution_count": 1,
   "metadata": {},
   "outputs": [
    {
     "name": "stdout",
     "output_type": "stream",
     "text": [
      "Inner Join:\n",
      "    ID     Name  Age\n",
      "0   2      Bob   24\n",
      "1   3  Charlie   27\n",
      "Left Join:\n",
      "    ID     Name   Age\n",
      "0   1    Alice   NaN\n",
      "1   2      Bob  24.0\n",
      "2   3  Charlie  27.0\n",
      "Outer Join:\n",
      "    ID     Name   Age\n",
      "0   1    Alice   NaN\n",
      "1   2      Bob  24.0\n",
      "2   3  Charlie  27.0\n",
      "3   4      NaN  22.0\n"
     ]
    }
   ],
   "source": [
    "import pandas as pd\n",
    "\n",
    "# Example DataFrames\n",
    "data1 = {'ID': [1, 2, 3], 'Name': ['Alice', 'Bob', 'Charlie']}\n",
    "data2 = {'ID': [2, 3, 4], 'Age': [24, 27, 22]}\n",
    "\n",
    "df1 = pd.DataFrame(data1)\n",
    "df2 = pd.DataFrame(data2)\n",
    "\n",
    "# Inner Join\n",
    "inner_join = pd.merge(df1, df2, on='ID', how='inner')\n",
    "print(\"Inner Join:\\n\", inner_join)\n",
    "\n",
    "# Left Join\n",
    "left_join = pd.merge(df1, df2, on='ID', how='left')\n",
    "print(\"Left Join:\\n\", left_join)\n",
    "\n",
    "# Outer Join\n",
    "outer_join = pd.merge(df1, df2, on='ID', how='outer')\n",
    "print(\"Outer Join:\\n\", outer_join)"
   ]
  },
  {
   "cell_type": "markdown",
   "metadata": {},
   "source": [
    "## Synthetic Variables"
   ]
  },
  {
   "cell_type": "code",
   "execution_count": 2,
   "metadata": {},
   "outputs": [
    {
     "name": "stdout",
     "output_type": "stream",
     "text": [
      "      Name  Price  Quantity  Total Cost\n",
      "0    Alice    100         2         200\n",
      "1      Bob    150         3         450\n",
      "2  Charlie    200         4         800\n"
     ]
    }
   ],
   "source": [
    "# Example DataFrame\n",
    "data = {'Name': ['Alice', 'Bob', 'Charlie'],\n",
    "        'Price': [100, 150, 200],\n",
    "        'Quantity': [2, 3, 4]}\n",
    "\n",
    "df = pd.DataFrame(data)\n",
    "\n",
    "# Creating a derived variable for total cost\n",
    "df['Total Cost'] = df['Price'] * df['Quantity']\n",
    "print(df)"
   ]
  },
  {
   "cell_type": "code",
   "execution_count": 3,
   "metadata": {},
   "outputs": [
    {
     "name": "stdout",
     "output_type": "stream",
     "text": [
      "      Name  Age    Age Group\n",
      "0    Alice   25        Young\n",
      "1      Bob   45  Middle-aged\n",
      "2  Charlie   65       Senior\n"
     ]
    }
   ],
   "source": [
    "# Example DataFrame with ages\n",
    "data = {'Name': ['Alice', 'Bob', 'Charlie'], 'Age': [25, 45, 65]}\n",
    "\n",
    "df = pd.DataFrame(data)\n",
    "\n",
    "# Binning Age into categories\n",
    "bins = [0, 30, 60, 100]\n",
    "labels = ['Young', 'Middle-aged', 'Senior']\n",
    "df['Age Group'] = pd.cut(df['Age'], bins=bins, labels=labels)\n",
    "print(df)"
   ]
  },
  {
   "cell_type": "code",
   "execution_count": null,
   "metadata": {},
   "outputs": [],
   "source": []
  }
 ],
 "metadata": {
  "kernelspec": {
   "display_name": "Python 3",
   "language": "python",
   "name": "python3"
  },
  "language_info": {
   "codemirror_mode": {
    "name": "ipython",
    "version": 3
   },
   "file_extension": ".py",
   "mimetype": "text/x-python",
   "name": "python",
   "nbconvert_exporter": "python",
   "pygments_lexer": "ipython3",
   "version": "3.10.12"
  }
 },
 "nbformat": 4,
 "nbformat_minor": 2
}
