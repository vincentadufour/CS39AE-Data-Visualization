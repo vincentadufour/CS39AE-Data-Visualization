{
 "cells": [
  {
   "cell_type": "code",
   "execution_count": 4,
   "id": "29affb51-56ee-4313-a2f9-a565a0236bd5",
   "metadata": {},
   "outputs": [],
   "source": [
    "import pandas as pd\n",
    "import seaborn as sns #if not found install using %pip install seaborn\n",
    "import numpy as np"
   ]
  },
  {
   "cell_type": "code",
   "execution_count": 6,
   "id": "e86fd46e-7099-4282-923e-12a3fff48148",
   "metadata": {},
   "outputs": [
    {
     "name": "stdout",
     "output_type": "stream",
     "text": [
      "Missing Data Count:\n",
      " Name       1\n",
      "Age        1\n",
      "Country    1\n",
      "Score      1\n",
      "dtype: int64\n"
     ]
    },
    {
     "data": {
      "image/png": "[encoded data removed]",
      "text/plain": [
       "<Figure size 600x400 with 1 Axes>"
      ]
     },
     "metadata": {},
     "output_type": "display_data"
    }
   ],
   "source": [
    "import matplotlib.pyplot as plt\n",
    "\n",
    "# Sample data\n",
    "data = {\n",
    "    'Name': ['Alice', 'Bob', 'Charlie', 'David', None],\n",
    "    'Age': [25, 30, np.nan, 40, 22],\n",
    "    'Country': ['USA', 'USA', None, 'UK', 'USA'],\n",
    "    'Score': [85, 90, 88, np.nan, 95]\n",
    "}\n",
    "    \n",
    "df = pd.DataFrame(data)\n",
    "\n",
    "# Checking for missing values\n",
    "print(\"Missing Data Count:\\n\", df.isnull().sum())\n",
    "\n",
    "# Visualizing missing data with a heatmap\n",
    "plt.figure(figsize=(6,4))\n",
    "sns.heatmap(df.isnull(), cbar=False, cmap=\"inferno\")\n",
    "plt.title(\"Heatmap of Missing Data\")\n",
    "plt.show()\n"
   ]
  },
  {
   "cell_type": "code",
   "execution_count": 7,
   "id": "756a50b6-dfdc-4199-aa61-50095cb14dc4",
   "metadata": {},
   "outputs": [
    {
     "name": "stdout",
     "output_type": "stream",
     "text": [
      "    Name   Age  Score\n",
      "0  Alice  24.0   85.0\n",
      "3  David  28.0   88.0\n"
     ]
    }
   ],
   "source": [
    "import pandas as pd\n",
    "\n",
    "# Sample DataFrame\n",
    "data = {'Name': ['Alice', 'Bob', None, 'David'],\n",
    "        'Age': [24, None, 22, 28],\n",
    "        'Score': [85, 90, None, 88]}\n",
    "\n",
    "df = pd.DataFrame(data)\n",
    "\n",
    "# Drop rows with any missing values\n",
    "df_drop_rows = df.dropna()\n",
    "\n",
    "print(df_drop_rows)\n"
   ]
  },
  {
   "cell_type": "code",
   "execution_count": 8,
   "id": "185c11b6-67fe-4136-b4e6-108724e8b41e",
   "metadata": {},
   "outputs": [
    {
     "name": "stdout",
     "output_type": "stream",
     "text": [
      "    Name        Age  Score\n",
      "0  Alice  24.000000   85.0\n",
      "1    Bob  24.666667   90.0\n",
      "2   None  22.000000    NaN\n",
      "3  David  28.000000   88.0\n"
     ]
    },
    {
     "name": "stderr",
     "output_type": "stream",
     "text": [
      "/tmp/ipykernel_177098/457834423.py:3: FutureWarning: A value is trying to be set on a copy of a DataFrame or Series through chained assignment using an inplace method.\n",
      "The behavior will change in pandas 3.0. This inplace method will never work because the intermediate object on which we are setting values always behaves as a copy.\n",
      "\n",
      "For example, when doing 'df[col].method(value, inplace=True)', try using 'df.method({col: value}, inplace=True)' or df[col] = df[col].method(value) instead, to perform the operation inplace on the original object.\n",
      "\n",
      "\n",
      "  df_mean_imputation['Age'].fillna(df['Age'].mean(), inplace=True)\n"
     ]
    }
   ],
   "source": [
    "# Fill missing values with the mean of the column 'Age'\n",
    "df_mean_imputation = df.copy()\n",
    "df_mean_imputation['Age'].fillna(df['Age'].mean(), inplace=True)\n",
    "\n",
    "print(df_mean_imputation)\n"
   ]
  },
  {
   "cell_type": "code",
   "execution_count": 9,
   "id": "82d69e37-ced5-4b39-b89a-258a72c92852",
   "metadata": {},
   "outputs": [
    {
     "name": "stdout",
     "output_type": "stream",
     "text": [
      "    Name   Age  Score\n",
      "0  Alice  24.0   85.0\n",
      "1    Bob   NaN   90.0\n",
      "2   None  22.0   88.0\n",
      "3  David  28.0   88.0\n"
     ]
    },
    {
     "name": "stderr",
     "output_type": "stream",
     "text": [
      "/tmp/ipykernel_177098/3062007869.py:3: FutureWarning: A value is trying to be set on a copy of a DataFrame or Series through chained assignment using an inplace method.\n",
      "The behavior will change in pandas 3.0. This inplace method will never work because the intermediate object on which we are setting values always behaves as a copy.\n",
      "\n",
      "For example, when doing 'df[col].method(value, inplace=True)', try using 'df.method({col: value}, inplace=True)' or df[col] = df[col].method(value) instead, to perform the operation inplace on the original object.\n",
      "\n",
      "\n",
      "  df_median_imputation['Score'].fillna(df['Score'].median(), inplace=True)\n"
     ]
    }
   ],
   "source": [
    "# Fill missing values with the median of the column 'Score'\n",
    "df_median_imputation = df.copy()\n",
    "df_median_imputation['Score'].fillna(df['Score'].median(), inplace=True)\n",
    "\n",
    "print(df_median_imputation)"
   ]
  },
  {
   "cell_type": "code",
   "execution_count": 10,
   "id": "fd47c669-3bec-4e70-8146-495fee8a1c48",
   "metadata": {},
   "outputs": [
    {
     "name": "stdout",
     "output_type": "stream",
     "text": [
      "    Name   Age  Score\n",
      "0  Alice  24.0   85.0\n",
      "1    Bob   NaN   90.0\n",
      "2  Alice  22.0    NaN\n",
      "3  David  28.0   88.0\n"
     ]
    },
    {
     "name": "stderr",
     "output_type": "stream",
     "text": [
      "/tmp/ipykernel_177098/3180943647.py:3: FutureWarning: A value is trying to be set on a copy of a DataFrame or Series through chained assignment using an inplace method.\n",
      "The behavior will change in pandas 3.0. This inplace method will never work because the intermediate object on which we are setting values always behaves as a copy.\n",
      "\n",
      "For example, when doing 'df[col].method(value, inplace=True)', try using 'df.method({col: value}, inplace=True)' or df[col] = df[col].method(value) instead, to perform the operation inplace on the original object.\n",
      "\n",
      "\n",
      "  df_mode_imputation['Name'].fillna(df['Name'].mode()[0], inplace=True)\n"
     ]
    }
   ],
   "source": [
    "# Fill missing values with the mode of the column 'Name'\n",
    "df_mode_imputation = df.copy()\n",
    "df_mode_imputation['Name'].fillna(df['Name'].mode()[0], inplace=True)\n",
    "\n",
    "print(df_mode_imputation)"
   ]
  },
  {
   "cell_type": "code",
   "execution_count": 12,
   "id": "74a90aa7-2c6c-4fc2-b465-bf952c96e79a",
   "metadata": {},
   "outputs": [
    {
     "ename": "ModuleNotFoundError",
     "evalue": "No module named 'sklearn'",
     "output_type": "error",
     "traceback": [
      "\u001b[0;31m---------------------------------------------------------------------------\u001b[0m",
      "\u001b[0;31mModuleNotFoundError\u001b[0m                       Traceback (most recent call last)",
      "Cell \u001b[0;32mIn[12], line 1\u001b[0m\n\u001b[0;32m----> 1\u001b[0m \u001b[38;5;28;01mfrom\u001b[39;00m \u001b[38;5;21;01msklearn\u001b[39;00m\u001b[38;5;21;01m.\u001b[39;00m\u001b[38;5;21;01mimpute\u001b[39;00m \u001b[38;5;28;01mimport\u001b[39;00m KNNImputer\n\u001b[1;32m      3\u001b[0m \u001b[38;5;66;03m# Create KNN Imputer\u001b[39;00m\n\u001b[1;32m      4\u001b[0m imputer \u001b[38;5;241m=\u001b[39m KNNImputer(n_neighbors\u001b[38;5;241m=\u001b[39m\u001b[38;5;241m2\u001b[39m)\n",
      "\u001b[0;31mModuleNotFoundError\u001b[0m: No module named 'sklearn'"
     ]
    }
   ],
   "source": [
    "from sklearn.impute import KNNImputer\n",
    "\n",
    "# Create KNN Imputer\n",
    "imputer = KNNImputer(n_neighbors=2)\n",
    "\n",
    "# Apply KNN Imputer\n",
    "df_knn_imputation = pd.DataFrame(imputer.fit_transform(df[['Age', 'Score']]), columns=['Age', 'Score'])\n",
    "\n",
    "print(df_knn_imputation)\n",
    "\n",
    "\n"
   ]
  },
  {
   "cell_type": "code",
   "execution_count": 14,
   "id": "2b16ea53-2dd5-4283-8071-6d818f5614e7",
   "metadata": {},
   "outputs": [
    {
     "data": {
      "image/png": "[encoded data removed]",
      "text/plain": [
       "<Figure size 800x600 with 1 Axes>"
      ]
     },
     "metadata": {},
     "output_type": "display_data"
    },
    {
     "name": "stdout",
     "output_type": "stream",
     "text": [
      "Outliers using Z-score:\n",
      "     values   z_score\n",
      "98   120.0  4.854008\n",
      "99   130.0  5.556677\n",
      "Outliers using IQR:\n",
      "         values   z_score\n",
      "46   76.049323  1.765729\n",
      "98  120.000000  4.854008\n",
      "99  130.000000  5.556677\n"
     ]
    }
   ],
   "source": [
    "import numpy as np\n",
    "import pandas as pd\n",
    "import matplotlib.pyplot as plt\n",
    "import seaborn as sns\n",
    "\n",
    "# Sample data\n",
    "data = pd.DataFrame({\n",
    "    'values': np.random.normal(loc=50, scale=10, size=100)\n",
    "})\n",
    "data.loc[98] = 120  # Add an outlier\n",
    "data.loc[99] = 130  # Add another outlier\n",
    "\n",
    "# Boxplot for identifying outliers\n",
    "plt.figure(figsize=(8, 6))\n",
    "sns.boxplot(data['values'])\n",
    "plt.title('Boxplot to Identify Outliers')\n",
    "plt.show()\n",
    "\n",
    "# Z-score method to identify outliers\n",
    "from scipy import stats\n",
    "\n",
    "data['z_score'] = np.abs(stats.zscore(data['values']))\n",
    "outliers_zscore = data[data['z_score'] > 3]\n",
    "\n",
    "# IQR method\n",
    "Q1 = data['values'].quantile(0.25)\n",
    "Q3 = data['values'].quantile(0.75)\n",
    "IQR = Q3 - Q1\n",
    "outliers_iqr = data[(data['values'] < (Q1 - 1.5 * IQR)) | (data['values'] > (Q3 + 1.5 * IQR))]\n",
    "\n",
    "print(\"Outliers using Z-score:\\n\", outliers_zscore)\n",
    "print(\"Outliers using IQR:\\n\", outliers_iqr)\n"
   ]
  },
  {
   "cell_type": "code",
   "execution_count": 1,
   "id": "19998e65-5b24-4b3b-93c2-15dfbef74a0c",
   "metadata": {},
   "outputs": [
    {
     "ename": "NameError",
     "evalue": "name 'data' is not defined",
     "output_type": "error",
     "traceback": [
      "\u001b[0;31m---------------------------------------------------------------------------\u001b[0m",
      "\u001b[0;31mNameError\u001b[0m                                 Traceback (most recent call last)",
      "Cell \u001b[0;32mIn[1], line 2\u001b[0m\n\u001b[1;32m      1\u001b[0m \u001b[38;5;66;03m# Trimming/Removing outliers\u001b[39;00m\n\u001b[0;32m----> 2\u001b[0m data_trimmed \u001b[38;5;241m=\u001b[39m \u001b[43mdata\u001b[49m[(data[\u001b[38;5;124m'\u001b[39m\u001b[38;5;124mvalues\u001b[39m\u001b[38;5;124m'\u001b[39m] \u001b[38;5;241m>\u001b[39m (Q1 \u001b[38;5;241m-\u001b[39m \u001b[38;5;241m1.5\u001b[39m \u001b[38;5;241m*\u001b[39m IQR)) \u001b[38;5;241m&\u001b[39m (data[\u001b[38;5;124m'\u001b[39m\u001b[38;5;124mvalues\u001b[39m\u001b[38;5;124m'\u001b[39m] \u001b[38;5;241m<\u001b[39m (Q3 \u001b[38;5;241m+\u001b[39m \u001b[38;5;241m1.5\u001b[39m \u001b[38;5;241m*\u001b[39m IQR))]\n\u001b[1;32m      4\u001b[0m \u001b[38;5;66;03m# Log transformation\u001b[39;00m\n\u001b[1;32m      5\u001b[0m data[\u001b[38;5;124m'\u001b[39m\u001b[38;5;124mlog_values\u001b[39m\u001b[38;5;124m'\u001b[39m] \u001b[38;5;241m=\u001b[39m np\u001b[38;5;241m.\u001b[39mlog(data[\u001b[38;5;124m'\u001b[39m\u001b[38;5;124mvalues\u001b[39m\u001b[38;5;124m'\u001b[39m] \u001b[38;5;241m+\u001b[39m \u001b[38;5;241m1\u001b[39m)\n",
      "\u001b[0;31mNameError\u001b[0m: name 'data' is not defined"
     ]
    }
   ],
   "source": [
    "# Trimming/Removing outliers\n",
    "data_trimmed = data[(data['values'] > (Q1 - 1.5 * IQR)) & (data['values'] < (Q3 + 1.5 * IQR))]\n",
    "\n",
    "# Log transformation\n",
    "data['log_values'] = np.log(data['values'] + 1)\n",
    "\n",
    "# Winsorizing (Capping)\n",
    "from scipy.stats import mstats\n",
    "data['winsorized'] = mstats.winsorize(data['values'], limits=[0.05, 0.05])\n",
    "\n",
    "# Plotting the transformations\n",
    "plt.figure(figsize=(12, 6))\n",
    "\n",
    "plt.subplot(1, 3, 1)\n",
    "sns.histplot(data['values'], kde=True)\n",
    "plt.title('Original Data')\n",
    "\n",
    "plt.subplot(1, 3, 2)\n",
    "sns.histplot(data['log_values'], kde=True)\n",
    "plt.title('Log Transformed Data')\n",
    "\n",
    "plt.subplot(1, 3, 3)\n",
    "sns.histplot(data['winsorized'], kde=True)\n",
    "plt.title('Winsorized Data')\n",
    "\n",
    "plt.tight_layout()\n",
    "plt.show()\n"
   ]
  },
  {
   "cell_type": "code",
   "execution_count": null,
   "id": "cbef48d4-e440-434b-8f2b-b837ef6316a5",
   "metadata": {},
   "outputs": [],
   "source": []
  }
 ],
 "metadata": {
  "kernelspec": {
   "display_name": "Python 3 (ipykernel)",
   "language": "python",
   "name": "python3"
  },
  "language_info": {
   "codemirror_mode": {
    "name": "ipython",
    "version": 3
   },
   "file_extension": ".py",
   "mimetype": "text/x-python",
   "name": "python",
   "nbconvert_exporter": "python",
   "pygments_lexer": "ipython3",
   "version": "3.10.12"
  }
 },
 "nbformat": 4,
 "nbformat_minor": 5
}
