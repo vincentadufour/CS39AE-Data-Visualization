{
 "cells": [
  {
   "cell_type": "markdown",
   "id": "fc836277-a7ac-407c-8470-6188d70a5ff5",
   "metadata": {},
   "source": [
    "### 11.09.2024"
   ]
  },
  {
   "cell_type": "code",
   "execution_count": 1,
   "id": "f9412c54-6cd6-41c7-abe1-7ad1f88579c2",
   "metadata": {},
   "outputs": [
    {
     "name": "stdout",
     "output_type": "stream",
     "text": [
      "Original DataFrame:\n",
      "   ID     Name  Score\n",
      "0   1    Alice     85\n",
      "1   2      Bob     90\n",
      "2   2      Bob     90\n",
      "3   3  Charlie     78\n",
      "4   4    David     95\n",
      "5   4    David     95\n",
      "6   5      Eve     88\n",
      "\n",
      "Exact Duplicate Rows:\n",
      "   ID   Name  Score\n",
      "2   2    Bob     90\n",
      "5   4  David     95\n",
      "\n",
      "DataFrame after Removing Duplicates:\n",
      "   ID     Name  Score\n",
      "0   1    Alice     85\n",
      "1   2      Bob     90\n",
      "3   3  Charlie     78\n",
      "4   4    David     95\n",
      "6   5      Eve     88\n",
      "\n",
      "Partial Duplicate Rows (based on 'ID'):\n",
      "   ID   Name  Score\n",
      "2   2    Bob     90\n",
      "5   4  David     95\n",
      "\n",
      "DataFrame after Removing Partial Duplicates (based on 'ID'):\n",
      "   ID     Name  Score\n",
      "0   1    Alice     85\n",
      "1   2      Bob     90\n",
      "3   3  Charlie     78\n",
      "4   4    David     95\n",
      "6   5      Eve     88\n"
     ]
    }
   ],
   "source": [
    "import pandas as pd\n",
    "\n",
    "# Sample data\n",
    "data = {'ID': [1, 2, 2, 3, 4, 4, 5],\n",
    "        'Name': ['Alice', 'Bob', 'Bob', 'Charlie', 'David', 'David', 'Eve'],\n",
    "        'Score': [85, 90, 90, 78, 95, 95, 88]}\n",
    "\n",
    "# Creating a DataFrame\n",
    "df = pd.DataFrame(data)\n",
    "\n",
    "# Display the data\n",
    "print(\"Original DataFrame:\")\n",
    "print(df)\n",
    "\n",
    "# Identifying exact duplicates (considering all columns)\n",
    "duplicates = df[df.duplicated()]\n",
    "print(\"\\nExact Duplicate Rows:\")\n",
    "print(duplicates)\n",
    "\n",
    "# Removing duplicates (keeping the first occurrence)\n",
    "df_no_duplicates = df.drop_duplicates()\n",
    "print(\"\\nDataFrame after Removing Duplicates:\")\n",
    "print(df_no_duplicates)\n",
    "\n",
    "# If partial duplicates need to be identified (e.g., based on 'ID' only)\n",
    "partial_duplicates = df[df.duplicated(subset=['ID'])]\n",
    "print(\"\\nPartial Duplicate Rows (based on 'ID'):\")\n",
    "print(partial_duplicates)\n",
    "\n",
    "# Removing partial duplicates based on 'ID'\n",
    "df_no_partial_duplicates = df.drop_duplicates(subset=['ID'])\n",
    "print(\"\\nDataFrame after Removing Partial Duplicates (based on 'ID'):\")\n",
    "print(df_no_partial_duplicates)"
   ]
  },
  {
   "cell_type": "code",
   "execution_count": 2,
   "id": "fc64fac4-318b-4211-8e45-a2de2605edc8",
   "metadata": {},
   "outputs": [
    {
     "name": "stdout",
     "output_type": "stream",
     "text": [
      "ID         int64\n",
      "Age       object\n",
      "Salary    object\n",
      "Joined    object\n",
      "dtype: object\n"
     ]
    }
   ],
   "source": [
    "import pandas as pd\n",
    "\n",
    "# Example DataFrame\n",
    "data = {'ID': [1, 2, 3,4], 'Age': ['25', '30', '22','40'], 'Salary': ['50000', '80000', '60000','90000'], 'Joined': ['2021-01-15', '2019-06-30', '2020-07-22','2019-06-30']}\n",
    "df = pd.DataFrame(data)\n",
    "\n",
    "# Check data types\n",
    "print(df.dtypes)\n"
   ]
  },
  {
   "cell_type": "code",
   "execution_count": 3,
   "id": "5cdf12d3-0e04-42e2-bab7-e77580fa6de5",
   "metadata": {},
   "outputs": [
    {
     "name": "stdout",
     "output_type": "stream",
     "text": [
      "ID         int64\n",
      "Age        int64\n",
      "Salary     int64\n",
      "Joined    object\n",
      "dtype: object\n"
     ]
    }
   ],
   "source": [
    "# Convert 'Age' and 'Salary' to numeric\n",
    "df['Age'] = pd.to_numeric(df['Age'], errors='coerce')\n",
    "df['Salary'] = pd.to_numeric(df['Salary'], errors='coerce')\n",
    "print(df.dtypes)\n"
   ]
  },
  {
   "cell_type": "code",
   "execution_count": 4,
   "id": "02e604f8-7bdb-4906-b6a5-50baf1b82e45",
   "metadata": {},
   "outputs": [
    {
     "name": "stdout",
     "output_type": "stream",
     "text": [
      "ID                 int64\n",
      "Age                int64\n",
      "Salary             int64\n",
      "Joined    datetime64[ns]\n",
      "dtype: object\n"
     ]
    }
   ],
   "source": [
    "# Convert 'Joined' to datetime\n",
    "df['Joined'] = pd.to_datetime(df['Joined'], errors='coerce')\n",
    "print(df.dtypes)\n",
    "\n"
   ]
  },
  {
   "cell_type": "code",
   "execution_count": 5,
   "id": "514efe39-7631-49b2-ade1-e7a1ba0a0f98",
   "metadata": {},
   "outputs": [
    {
     "name": "stdout",
     "output_type": "stream",
     "text": [
      "   ID  Age  Salary     Joined   Department  Dept_Code\n",
      "0   1   25   50000 2021-01-15           HR          2\n",
      "1   2   30   80000 2019-06-30  Engineering          1\n",
      "2   3   22   60000 2020-07-22    Marketing          3\n",
      "3   4   40   90000 2019-06-30           CS          0\n"
     ]
    }
   ],
   "source": [
    "\n",
    "df['Department'] = ['HR', 'Engineering', 'Marketing','CS']\n",
    "df['Dept_Code'] = df['Department'].astype('category').cat.codes\n",
    "print(df)\n"
   ]
  },
  {
   "cell_type": "code",
   "execution_count": 6,
   "id": "2109c949-5061-49fd-9d36-22bad5de47c7",
   "metadata": {},
   "outputs": [
    {
     "data": {
      "image/png": "[encoded data removed]",
      "text/plain": [
       "<Figure size 800x600 with 1 Axes>"
      ]
     },
     "metadata": {},
     "output_type": "display_data"
    }
   ],
   "source": [
    "import matplotlib.pyplot as plt\n",
    "\n",
    "# Creating a line chart for both Age and Salary by ID\n",
    "plt.figure(figsize=(8, 6))\n",
    "\n",
    "# Plotting Age\n",
    "plt.plot(df['ID'], df['Age'], marker='o', label='Age')\n",
    "\n",
    "# Plotting Salary\n",
    "plt.plot(df['ID'], df['Salary'], marker='o', label='Salary')\n",
    "\n",
    "# Adding titles and labels\n",
    "plt.title('Age and Salary by ID')\n",
    "plt.xlabel('ID')\n",
    "plt.ylabel('Value')\n",
    "plt.grid(True)\n",
    "plt.legend()\n",
    "\n",
    "plt.show()\n",
    "\n"
   ]
  },
  {
   "cell_type": "code",
   "execution_count": 9,
   "id": "00e2e9ec-8b50-47af-bb88-0f3562af5e26",
   "metadata": {},
   "outputs": [
    {
     "name": "stdout",
     "output_type": "stream",
     "text": [
      "   Salary  Salary_standardized\n",
      "0   50000            -1.264911\n",
      "1   80000             0.632456\n",
      "2   60000            -0.632456\n",
      "3   90000             1.264911\n",
      "   Age  Age_standardized\n",
      "0   25         -0.621997\n",
      "1   30          0.109764\n",
      "2   22         -1.061055\n",
      "3   40          1.573288\n"
     ]
    }
   ],
   "source": [
    "from sklearn.preprocessing import StandardScaler\n",
    "\n",
    "scaler = StandardScaler()\n",
    "df['Salary_standardized'] = scaler.fit_transform(df[['Salary']])\n",
    "print(df[['Salary', 'Salary_standardized']])\n",
    "\n",
    "caler = StandardScaler()\n",
    "df['Age_standardized'] = scaler.fit_transform(df[['Age']])\n",
    "print(df[['Age', 'Age_standardized']])"
   ]
  },
  {
   "cell_type": "code",
   "execution_count": 10,
   "id": "a13eae74-e54e-424e-948f-81ee0a155637",
   "metadata": {},
   "outputs": [
    {
     "data": {
      "image/png": "[encoded data removed]",
      "text/plain": [
       "<Figure size 800x600 with 1 Axes>"
      ]
     },
     "metadata": {},
     "output_type": "display_data"
    }
   ],
   "source": [
    "import matplotlib.pyplot as plt\n",
    "\n",
    "# Creating a line chart for both Age and Salary by ID\n",
    "plt.figure(figsize=(8, 6))\n",
    "\n",
    "# Plotting Age\n",
    "plt.plot(df['ID'], df['Age_standardized'], marker='o', label='Age')\n",
    "\n",
    "# Plotting Salary\n",
    "plt.plot(df['ID'], df['Salary_standardized'], marker='o', label='Salary')\n",
    "\n",
    "# Adding titles and labels\n",
    "plt.title('Age and Salary by ID- Standardized')\n",
    "plt.xlabel('ID')\n",
    "plt.ylabel('Value')\n",
    "plt.grid(True)\n",
    "plt.legend()\n",
    "\n",
    "plt.show()"
   ]
  },
  {
   "cell_type": "code",
   "execution_count": 11,
   "id": "714ab528-7370-44d4-bbe9-406b4404a9c1",
   "metadata": {},
   "outputs": [
    {
     "name": "stdout",
     "output_type": "stream",
     "text": [
      "   Salary  Salary_normalized\n",
      "0   50000               0.00\n",
      "1   80000               0.75\n",
      "2   60000               0.25\n",
      "3   90000               1.00\n",
      "   Age  Age_normalized\n",
      "0   25        0.166667\n",
      "1   30        0.444444\n",
      "2   22        0.000000\n",
      "3   40        1.000000\n"
     ]
    }
   ],
   "source": [
    "from sklearn.preprocessing import MinMaxScaler\n",
    "\n",
    "scaler = MinMaxScaler()\n",
    "df['Salary_normalized'] = scaler.fit_transform(df[['Salary']])\n",
    "print(df[['Salary', 'Salary_normalized']])\n",
    "df['Age_normalized'] = scaler.fit_transform(df[['Age']])\n",
    "print(df[['Age', 'Age_normalized']])\n"
   ]
  },
  {
   "cell_type": "code",
   "execution_count": 12,
   "id": "dce111ca-51f1-4812-8e11-59b9cd531b4a",
   "metadata": {},
   "outputs": [
    {
     "name": "stdout",
     "output_type": "stream",
     "text": [
      "   price  quantity       date  total_sales  year  month\n",
      "0    200         3 2023-01-10          600  2023      1\n",
      "1    150         4 2023-02-05          600  2023      2\n",
      "2    300         1 2023-03-10          300  2023      3\n",
      "3    250         2 2023-04-02          500  2023      4\n"
     ]
    }
   ],
   "source": [
    "import pandas as pd\n",
    "\n",
    "# Example data\n",
    "data = {'price': [200, 150, 300, 250], 'quantity': [3, 4, 1, 2], 'date': ['2023-01-10', '2023-02-05', '2023-03-10', '2023-04-02']}\n",
    "df = pd.DataFrame(data)\n",
    "\n",
    "# Creating a new feature 'total_sales' from 'price' and 'quantity'\n",
    "df['total_sales'] = df['price'] * df['quantity']\n",
    "\n",
    "# Extracting 'year' and 'month' from the 'date'\n",
    "df['date'] = pd.to_datetime(df['date'])\n",
    "df['year'] = df['date'].dt.year\n",
    "df['month'] = df['date'].dt.month\n",
    "\n",
    "print(df)\n"
   ]
  },
  {
   "cell_type": "code",
   "execution_count": 13,
   "id": "ae91a8e0-a9e9-4c74-88ab-640f8dccf112",
   "metadata": {},
   "outputs": [
    {
     "name": "stdout",
     "output_type": "stream",
     "text": [
      "      name date_of_birth  age\n",
      "0    Alice    1990-05-15   34\n",
      "1      Bob    1985-07-22   39\n",
      "2  Charlie    2000-12-30   24\n"
     ]
    }
   ],
   "source": [
    "import pandas as pd\n",
    "from datetime import datetime\n",
    "\n",
    "# Sample data\n",
    "data = {'name': ['Alice', 'Bob', 'Charlie'],\n",
    "        'date_of_birth': ['1990-05-15', '1985-07-22', '2000-12-30']}\n",
    "\n",
    "# Create a DataFrame\n",
    "df = pd.DataFrame(data)\n",
    "\n",
    "# Convert the 'date_of_birth' column to datetime\n",
    "df['date_of_birth'] = pd.to_datetime(df['date_of_birth'])\n",
    "\n",
    "# Create a new column 'age' by calculating the difference from today's date\n",
    "df['age'] = df['date_of_birth'].apply(lambda dob: datetime.now().year - dob.year)\n",
    "\n",
    "# Display the DataFrame\n",
    "print(df)\n"
   ]
  },
  {
   "cell_type": "code",
   "execution_count": 14,
   "id": "67de6e0d-cdb9-48e4-9889-7ab0134b0092",
   "metadata": {},
   "outputs": [
    {
     "name": "stdout",
     "output_type": "stream",
     "text": [
      "   price price_bins  quantity quantity_bins\n",
      "0    200        Low         3         Large\n",
      "1    150        Low         4         Large\n",
      "2    300       High         1         Small\n",
      "3    250     Medium         2        Medium\n"
     ]
    }
   ],
   "source": [
    "import numpy as np\n",
    "import pandas as pd\n",
    "\n",
    "# Example data\n",
    "data = {'price': [200, 150, 300, 250], 'quantity': [3, 4, 1, 2], 'date': ['2023-01-10', '2023-02-05', '2023-03-10', '2023-04-02']}\n",
    "df = pd.DataFrame(data)\n",
    "\n",
    "# Creating a new feature 'total_sales' from 'price' and 'quantity'\n",
    "df['total_sales'] = df['price'] * df['quantity']\n",
    "\n",
    "# Extracting 'year' and 'month' from the 'date'\n",
    "df['date'] = pd.to_datetime(df['date'])\n",
    "df['year'] = df['date'].dt.year\n",
    "df['month'] = df['date'].dt.month\n",
    "\n",
    "# Creating equal-width bins for 'price'\n",
    "df['price_bins'] = pd.cut(df['price'], bins=3, labels=[\"Low\", \"Medium\", \"High\"])\n",
    "\n",
    "# Creating equal-frequency bins for 'quantity'\n",
    "df['quantity_bins'] = pd.qcut(df['quantity'], q=3, labels=[\"Small\", \"Medium\", \"Large\"])\n",
    "\n",
    "print(df[['price', 'price_bins', 'quantity', 'quantity_bins']])"
   ]
  },
  {
   "cell_type": "code",
   "execution_count": 15,
   "id": "79af0991-21a6-49fa-93ef-310fb96d0038",
   "metadata": {},
   "outputs": [
    {
     "name": "stdout",
     "output_type": "stream",
     "text": [
      "   color_blue  color_green  color_red\n",
      "0         0.0          0.0        1.0\n",
      "1         1.0          0.0        0.0\n",
      "2         0.0          1.0        0.0\n",
      "3         1.0          0.0        0.0\n"
     ]
    }
   ],
   "source": [
    "import pandas as pd\n",
    "from sklearn.preprocessing import OneHotEncoder\n",
    "\n",
    "\n",
    "# Example data with categorical variable\n",
    "df_categorical = pd.DataFrame({'color': ['red', 'blue', 'green', 'blue']})\n",
    "\n",
    "# Applying One-Hot Encoding\n",
    "encoder = OneHotEncoder(sparse_output=False)\n",
    "encoded_data = encoder.fit_transform(df_categorical[['color']])\n",
    "\n",
    "# Creating a new DataFrame from the encoded data\n",
    "encoded_df = pd.DataFrame(encoded_data, columns=encoder.get_feature_names_out(['color']))\n",
    "\n",
    "print(encoded_df)"
   ]
  },
  {
   "cell_type": "code",
   "execution_count": 17,
   "id": "6c5e0929-283a-4865-adb2-a518d1df65d7",
   "metadata": {},
   "outputs": [
    {
     "name": "stdout",
     "output_type": "stream",
     "text": [
      "   color\n",
      "0    red\n",
      "1   blue\n",
      "2  green\n",
      "3   blue\n",
      "--------------------------------------------------------------------\n",
      "   color_blue  color_green  color_red\n",
      "0         0.0          0.0        1.0\n",
      "1         1.0          0.0        0.0\n",
      "2         0.0          1.0        0.0\n",
      "3         1.0          0.0        0.0\n"
     ]
    }
   ],
   "source": [
    "import pandas as pd\n",
    "from sklearn.preprocessing import OneHotEncoder\n",
    "\n",
    "\n",
    "# Example data with categorical variable\n",
    "df_categorical = pd.DataFrame({'color': ['red', 'blue', 'green', 'blue']})\n",
    "\n",
    "# Applying One-Hot Encoding\n",
    "encoder = OneHotEncoder(sparse_output=False)\n",
    "encoded_data = encoder.fit_transform(df_categorical[['color']])\n",
    "\n",
    "# Creating a new DataFrame from the encoded data\n",
    "encoded_df = pd.DataFrame(encoded_data, columns=encoder.get_feature_names_out(['color']))\n",
    "\n",
    "print(df_categorical)\n",
    "print(\"--------------------------------------------------------------------\")\n",
    "print(encoded_df)\n"
   ]
  },
  {
   "cell_type": "code",
   "execution_count": 18,
   "id": "a6f8fe47-b702-4b4b-9305-d98131286de5",
   "metadata": {},
   "outputs": [
    {
     "name": "stdout",
     "output_type": "stream",
     "text": [
      "   price price_bins  quantity quantity_bins\n",
      "0    200        Low         3         Large\n",
      "1    150        Low         4         Large\n",
      "2    300       High         1         Small\n",
      "3    250     Medium         2        Medium\n",
      "   total_sales  standardized_sales  price  scaled_price  quantity  \\\n",
      "0          600            0.816497    200      0.333333         3   \n",
      "1          600            0.816497    150      0.000000         4   \n",
      "2          300           -1.632993    300      1.000000         1   \n",
      "3          500            0.000000    250      0.666667         2   \n",
      "\n",
      "   log_quantity  \n",
      "0      1.386294  \n",
      "1      1.609438  \n",
      "2      0.693147  \n",
      "3      1.098612  \n"
     ]
    }
   ],
   "source": [
    "from sklearn.preprocessing import StandardScaler, MinMaxScaler\n",
    "import numpy as np\n",
    "import pandas as pd\n",
    "\n",
    "# Example data\n",
    "data = {'price': [200, 150, 300, 250], 'quantity': [3, 4, 1, 2], 'date': ['2023-01-10', '2023-02-05', '2023-03-10', '2023-04-02']}\n",
    "df = pd.DataFrame(data)\n",
    "\n",
    "# Creating a new feature 'total_sales' from 'price' and 'quantity'\n",
    "df['total_sales'] = df['price'] * df['quantity']\n",
    "\n",
    "# Extracting 'year' and 'month' from the 'date'\n",
    "df['date'] = pd.to_datetime(df['date'])\n",
    "df['year'] = df['date'].dt.year\n",
    "df['month'] = df['date'].dt.month\n",
    "\n",
    "# Creating equal-width bins for 'price'\n",
    "df['price_bins'] = pd.cut(df['price'], bins=3, labels=[\"Low\", \"Medium\", \"High\"])\n",
    "\n",
    "# Creating equal-frequency bins for 'quantity'\n",
    "df['quantity_bins'] = pd.qcut(df['quantity'], q=3, labels=[\"Small\", \"Medium\", \"Large\"])\n",
    "\n",
    "print(df[['price', 'price_bins', 'quantity', 'quantity_bins']])\n",
    "\n",
    "# Standardization\n",
    "scaler = StandardScaler()\n",
    "df['standardized_sales'] = scaler.fit_transform(df[['total_sales']])\n",
    "\n",
    "# Min-Max Scaling\n",
    "minmax_scaler = MinMaxScaler()\n",
    "df['scaled_price'] = minmax_scaler.fit_transform(df[['price']])\n",
    "\n",
    "# Log Transformation (Note: Add 1 to avoid log(0))\n",
    "df['log_quantity'] = np.log(df['quantity'] + 1)\n",
    "\n",
    "print(df[['total_sales', 'standardized_sales', 'price', 'scaled_price', 'quantity', 'log_quantity']])"
   ]
  },
  {
   "cell_type": "code",
   "execution_count": null,
   "id": "11b23692-ffc0-48aa-8ada-df73aca050c2",
   "metadata": {},
   "outputs": [],
   "source": []
  }
 ],
 "metadata": {
  "kernelspec": {
   "display_name": "Python 3 (ipykernel)",
   "language": "python",
   "name": "python3"
  },
  "language_info": {
   "codemirror_mode": {
    "name": "ipython",
    "version": 3
   },
   "file_extension": ".py",
   "mimetype": "text/x-python",
   "name": "python",
   "nbconvert_exporter": "python",
   "pygments_lexer": "ipython3",
   "version": "3.10.12"
  }
 },
 "nbformat": 4,
 "nbformat_minor": 5
}
