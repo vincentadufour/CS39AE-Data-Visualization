{
 "cells": [
  {
   "cell_type": "code",
   "execution_count": 1,
   "id": "d734c9bb-63fb-4f44-b545-ef409f4fbab8",
   "metadata": {},
   "outputs": [],
   "source": [
    "#Step 1: Import tha pandas library\n",
    "import pandas as pd"
   ]
  },
  {
   "cell_type": "code",
   "execution_count": 2,
   "id": "ca0ceaa7-4873-495e-89ed-f22fa44c1ae5",
   "metadata": {},
   "outputs": [],
   "source": [
    "#Step 2: Read the CSV file\n",
    "data = pd.read_csv('Documents/MSUDenver/CS39AE/HW1/Emp_Data_Lab1.csv')"
   ]
  },
  {
   "cell_type": "code",
   "execution_count": 3,
   "id": "b0a922ba-41e8-4a90-b31c-45fe024cb3fc",
   "metadata": {},
   "outputs": [
    {
     "data": {
      "text/html": [
       "<div>\n",
       "<style scoped>\n",
       "    .dataframe tbody tr th:only-of-type {\n",
       "        vertical-align: middle;\n",
       "    }\n",
       "\n",
       "    .dataframe tbody tr th {\n",
       "        vertical-align: top;\n",
       "    }\n",
       "\n",
       "    .dataframe thead th {\n",
       "        text-align: right;\n",
       "    }\n",
       "</style>\n",
       "<table border=\"1\" class=\"dataframe\">\n",
       "  <thead>\n",
       "    <tr style=\"text-align: right;\">\n",
       "      <th></th>\n",
       "      <th>Employee ID</th>\n",
       "      <th>Department</th>\n",
       "      <th>Job Level</th>\n",
       "      <th>Gender</th>\n",
       "      <th>Years of Experience</th>\n",
       "      <th>Age</th>\n",
       "      <th>Salary ($)</th>\n",
       "      <th>Height (cm)</th>\n",
       "    </tr>\n",
       "  </thead>\n",
       "  <tbody>\n",
       "    <tr>\n",
       "      <th>0</th>\n",
       "      <td>1</td>\n",
       "      <td>HR</td>\n",
       "      <td>Intermediate</td>\n",
       "      <td>Female</td>\n",
       "      <td>5</td>\n",
       "      <td>30</td>\n",
       "      <td>55,000</td>\n",
       "      <td>165</td>\n",
       "    </tr>\n",
       "    <tr>\n",
       "      <th>1</th>\n",
       "      <td>2</td>\n",
       "      <td>IT</td>\n",
       "      <td>Advanced</td>\n",
       "      <td>Male</td>\n",
       "      <td>10</td>\n",
       "      <td>40</td>\n",
       "      <td>75,000</td>\n",
       "      <td>180</td>\n",
       "    </tr>\n",
       "    <tr>\n",
       "      <th>2</th>\n",
       "      <td>3</td>\n",
       "      <td>Marketing</td>\n",
       "      <td>Beginner</td>\n",
       "      <td>Female</td>\n",
       "      <td>2</td>\n",
       "      <td>25</td>\n",
       "      <td>45,000</td>\n",
       "      <td>170</td>\n",
       "    </tr>\n",
       "    <tr>\n",
       "      <th>3</th>\n",
       "      <td>4</td>\n",
       "      <td>Finance</td>\n",
       "      <td>Expert</td>\n",
       "      <td>Male</td>\n",
       "      <td>15</td>\n",
       "      <td>50</td>\n",
       "      <td>85,000</td>\n",
       "      <td>175</td>\n",
       "    </tr>\n",
       "    <tr>\n",
       "      <th>4</th>\n",
       "      <td>5</td>\n",
       "      <td>IT</td>\n",
       "      <td>Intermediate</td>\n",
       "      <td>Non-Binary</td>\n",
       "      <td>7</td>\n",
       "      <td>35</td>\n",
       "      <td>60,000</td>\n",
       "      <td>160</td>\n",
       "    </tr>\n",
       "  </tbody>\n",
       "</table>\n",
       "</div>"
      ],
      "text/plain": [
       "   Employee ID Department     Job Level      Gender  Years of Experience  Age  \\\n",
       "0            1         HR  Intermediate      Female                    5   30   \n",
       "1            2         IT      Advanced        Male                   10   40   \n",
       "2            3  Marketing      Beginner      Female                    2   25   \n",
       "3            4    Finance        Expert        Male                   15   50   \n",
       "4            5         IT  Intermediate  Non-Binary                    7   35   \n",
       "\n",
       "  Salary ($)  Height (cm)  \n",
       "0     55,000          165  \n",
       "1     75,000          180  \n",
       "2     45,000          170  \n",
       "3     85,000          175  \n",
       "4     60,000          160  "
      ]
     },
     "execution_count": 3,
     "metadata": {},
     "output_type": "execute_result"
    }
   ],
   "source": [
    "#Step 3: Display the first few rows of the dataset\n",
    "data.head()"
   ]
  }
 ],
 "metadata": {
  "kernelspec": {
   "display_name": "Python 3 (ipykernel)",
   "language": "python",
   "name": "python3"
  },
  "language_info": {
   "codemirror_mode": {
    "name": "ipython",
    "version": 3
   },
   "file_extension": ".py",
   "mimetype": "text/x-python",
   "name": "python",
   "nbconvert_exporter": "python",
   "pygments_lexer": "ipython3",
   "version": "3.10.12"
  }
 },
 "nbformat": 4,
 "nbformat_minor": 5
}
