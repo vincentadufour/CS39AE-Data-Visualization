{
 "cells": [
  {
   "cell_type": "markdown",
   "id": "45bd6be2-d962-4b96-8ef9-9019c85afceb",
   "metadata": {},
   "source": [
    "## Lab 2.4"
   ]
  },
  {
   "cell_type": "code",
   "execution_count": 2,
   "id": "cf4553e8-011e-48a4-8225-b2e1b6c9027a",
   "metadata": {},
   "outputs": [
    {
     "name": "stdout",
     "output_type": "stream",
     "text": [
      "    Age   Salary  Experience\n",
      "0  40.0  86188.0        23.0\n",
      "1  36.0  77446.0         7.0\n",
      "2  35.0  38892.0        29.0\n",
      "3  37.0  86643.0         3.0\n",
      "4  56.0  76425.0         1.0\n",
      "5   NaN  39909.0         7.0\n",
      "6  20.0  49617.0        29.0\n",
      "7  54.0  50389.0        15.0\n",
      "8  20.0  86341.0        21.0\n",
      "9  37.0  36428.0        33.0\n"
     ]
    }
   ],
   "source": [
    "import pandas as pd\n",
    "import matplotlib.pyplot as plt\n",
    "import numpy as np\n",
    "import seaborn as sns\n",
    "\n",
    "data = pd.read_csv('lab2_4.csv')\n",
    "print(data.head(10))\n"
   ]
  },
  {
   "cell_type": "code",
   "execution_count": 15,
   "id": "d0eabec4-aecf-4aac-b1ac-be521d2f5959",
   "metadata": {},
   "outputs": [
    {
     "name": "stdout",
     "output_type": "stream",
     "text": [
      "      Age  Salary  Experience\n",
      "0   False   False       False\n",
      "1   False   False       False\n",
      "2   False   False       False\n",
      "3   False   False       False\n",
      "4   False   False       False\n",
      "5    True   False       False\n",
      "6   False   False       False\n",
      "7   False   False       False\n",
      "8   False   False       False\n",
      "9   False   False       False\n",
      "10   True   False       False\n",
      "11  False   False       False\n",
      "12  False   False       False\n",
      "13  False   False       False\n",
      "14  False   False       False\n",
      "15   True   False       False\n",
      "16  False   False       False\n",
      "17  False   False       False\n",
      "18  False   False       False\n",
      "19  False   False       False\n",
      "20  False    True       False\n",
      "21  False   False       False\n",
      "22  False   False       False\n",
      "23  False   False       False\n",
      "24  False   False       False\n",
      "25  False    True       False\n",
      "26  False   False       False\n",
      "27  False   False       False\n",
      "28  False   False       False\n",
      "29  False   False       False\n",
      "30  False   False        True\n",
      "31  False   False       False\n",
      "32  False   False       False\n",
      "33  False   False       False\n",
      "34  False   False       False\n",
      "35  False   False        True\n",
      "36  False   False       False\n",
      "37  False   False       False\n",
      "38  False   False       False\n",
      "39  False   False       False\n",
      "40  False   False        True\n",
      "41  False   False       False\n",
      "42  False   False       False\n",
      "43  False   False       False\n",
      "44  False   False       False\n",
      "45  False   False       False\n",
      "46  False   False       False\n",
      "47  False   False       False\n",
      "48  False   False       False\n",
      "49  False   False       False\n",
      "\n",
      "How many nulls per column?\n",
      "Age           3\n",
      "Salary        2\n",
      "Experience    3\n",
      "dtype: int64\n"
     ]
    }
   ],
   "source": [
    "print(data.isnull())\n",
    "print(\"\\nHow many nulls per column?\")\n",
    "print(data.isnull().sum())"
   ]
  },
  {
   "cell_type": "markdown",
   "id": "329b6961-2238-4508-9603-27553d1093fd",
   "metadata": {},
   "source": [
    "### Missing Data\n",
    "Rows 5, 10, 15, 20, 25, 30, and 40 have missing data.\n",
    "All columns have missing data.\n",
    "Sum of missing data per column is shown above."
   ]
  },
  {
   "cell_type": "code",
   "execution_count": 16,
   "id": "6992e67d-b215-4991-9d8c-9623c672c926",
   "metadata": {},
   "outputs": [
    {
     "name": "stdout",
     "output_type": "stream",
     "text": [
      "Missing Data Count:\n",
      " Age           3\n",
      "Salary        2\n",
      "Experience    3\n",
      "dtype: int64\n"
     ]
    },
    {
     "data": {
      "image/png": "[encoded data removed]",
      "text/plain": [
       "<Figure size 600x400 with 1 Axes>"
      ]
     },
     "metadata": {},
     "output_type": "display_data"
    }
   ],
   "source": [
    "df = pd.DataFrame(data)\n",
    "\n",
    "# Visualizing missing data with a heatmap\n",
    "plt.figure(figsize=(6,4))\n",
    "sns.heatmap(df.isnull(), cbar=False, cmap=\"inferno\")\n",
    "plt.title(\"Heatmap of Missing Data\")\n",
    "plt.show()"
   ]
  },
  {
   "cell_type": "code",
   "execution_count": 43,
   "id": "540c8353-aba7-4d08-91af-b501459fa376",
   "metadata": {},
   "outputs": [
    {
     "name": "stdout",
     "output_type": "stream",
     "text": [
      "Before removing rows & columns:\n",
      "# of Rows: 50\n"
     ]
    }
   ],
   "source": [
    "print(\"Before removing rows & columns:\")\n",
    "print(\"# of Rows:\", len(df))"
   ]
  },
  {
   "cell_type": "code",
   "execution_count": 58,
   "id": "ba70596e-a09b-4f53-883b-0407d42d85d9",
   "metadata": {},
   "outputs": [
    {
     "name": "stdout",
     "output_type": "stream",
     "text": [
      "\n",
      "After removing rows & columns:\n",
      "# of Rows: 42\n",
      "Alternative way to find length of dataset (42, 3)\n"
     ]
    }
   ],
   "source": [
    "clean_df = df.dropna()\n",
    "print(\"\\nAfter removing rows & columns:\")\n",
    "print(\"# of Rows:\", len(clean_df))\n",
    "\n",
    "# also can use\n",
    "print(\"Alternative way to find length of dataset\", clean_df.shape)"
   ]
  },
  {
   "cell_type": "code",
   "execution_count": 52,
   "id": "93f8b969-6e41-48ee-b23e-4578a23c8b94",
   "metadata": {},
   "outputs": [
    {
     "name": "stdout",
     "output_type": "stream",
     "text": [
      "      Age  Salary  Experience\n",
      "0   False   False       False\n",
      "1   False   False       False\n",
      "2   False   False       False\n",
      "3   False   False       False\n",
      "4   False   False       False\n",
      "5   False   False       False\n",
      "6   False   False       False\n",
      "7   False   False       False\n",
      "8   False   False       False\n",
      "9   False   False       False\n",
      "10  False   False       False\n",
      "11  False   False       False\n",
      "12  False   False       False\n",
      "13  False   False       False\n",
      "14  False   False       False\n",
      "15  False   False       False\n",
      "16  False   False       False\n",
      "17  False   False       False\n",
      "18  False   False       False\n",
      "19  False   False       False\n",
      "20  False   False       False\n",
      "21  False   False       False\n",
      "22  False   False       False\n",
      "23  False   False       False\n",
      "24  False   False       False\n",
      "25  False   False       False\n",
      "26  False   False       False\n",
      "27  False   False       False\n",
      "28  False   False       False\n",
      "29  False   False       False\n",
      "30  False   False       False\n",
      "31  False   False       False\n",
      "32  False   False       False\n",
      "33  False   False       False\n",
      "34  False   False       False\n",
      "35  False   False       False\n",
      "36  False   False       False\n",
      "37  False   False       False\n",
      "38  False   False       False\n",
      "39  False   False       False\n",
      "40  False   False       False\n",
      "41  False   False       False\n",
      "42  False   False       False\n",
      "43  False   False       False\n",
      "44  False   False       False\n",
      "45  False   False       False\n",
      "46  False   False       False\n",
      "47  False   False       False\n",
      "48  False   False       False\n",
      "49  False   False       False\n"
     ]
    },
    {
     "name": "stderr",
     "output_type": "stream",
     "text": [
      "/tmp/ipykernel_178051/1688224786.py:2: FutureWarning: A value is trying to be set on a copy of a DataFrame or Series through chained assignment using an inplace method.\n",
      "The behavior will change in pandas 3.0. This inplace method will never work because the intermediate object on which we are setting values always behaves as a copy.\n",
      "\n",
      "For example, when doing 'df[col].method(value, inplace=True)', try using 'df.method({col: value}, inplace=True)' or df[col] = df[col].method(value) instead, to perform the operation inplace on the original object.\n",
      "\n",
      "\n",
      "  df_filling['Age'].fillna(df['Age'].mean(), inplace=True)\n",
      "/tmp/ipykernel_178051/1688224786.py:3: FutureWarning: A value is trying to be set on a copy of a DataFrame or Series through chained assignment using an inplace method.\n",
      "The behavior will change in pandas 3.0. This inplace method will never work because the intermediate object on which we are setting values always behaves as a copy.\n",
      "\n",
      "For example, when doing 'df[col].method(value, inplace=True)', try using 'df.method({col: value}, inplace=True)' or df[col] = df[col].method(value) instead, to perform the operation inplace on the original object.\n",
      "\n",
      "\n",
      "  df_filling['Salary'].fillna(df['Salary'].mean(), inplace=True)\n",
      "/tmp/ipykernel_178051/1688224786.py:4: FutureWarning: A value is trying to be set on a copy of a DataFrame or Series through chained assignment using an inplace method.\n",
      "The behavior will change in pandas 3.0. This inplace method will never work because the intermediate object on which we are setting values always behaves as a copy.\n",
      "\n",
      "For example, when doing 'df[col].method(value, inplace=True)', try using 'df.method({col: value}, inplace=True)' or df[col] = df[col].method(value) instead, to perform the operation inplace on the original object.\n",
      "\n",
      "\n",
      "  df_filling['Experience'].fillna(df['Experience'].median(), inplace=True)\n"
     ]
    },
    {
     "data": {
      "image/png": "[encoded data removed]",
      "text/plain": [
       "<Figure size 600x400 with 1 Axes>"
      ]
     },
     "metadata": {},
     "output_type": "display_data"
    },
    {
     "name": "stdout",
     "output_type": "stream",
     "text": [
      "          Age   Salary  Experience\n",
      "0   40.000000  86188.0        23.0\n",
      "1   36.000000  77446.0         7.0\n",
      "2   35.000000  38892.0        29.0\n",
      "3   37.000000  86643.0         3.0\n",
      "4   56.000000  76425.0         1.0\n",
      "5   40.042553  39909.0         7.0\n",
      "6   20.000000  49617.0        29.0\n",
      "7   54.000000  50389.0        15.0\n",
      "8   20.000000  86341.0        21.0\n",
      "9   37.000000  36428.0        33.0\n",
      "10  40.042553  88820.0        25.0\n",
      "11  21.000000  72387.0         9.0\n",
      "12  41.000000  71738.0        14.0\n",
      "13  21.000000  62837.0        33.0\n",
      "14  47.000000  34890.0        11.0\n",
      "15  40.042553  45725.0        35.0\n",
      "16  39.000000  90556.0         7.0\n",
      "17  55.000000  30853.0        39.0\n",
      "18  27.000000  64763.0         6.0\n",
      "19  34.000000  95905.0        23.0\n"
     ]
    }
   ],
   "source": [
    "df_filling = df.copy()\n",
    "df_filling['Age'].fillna(df['Age'].mean(), inplace=True)\n",
    "df_filling['Salary'].fillna(df['Salary'].mean(), inplace=True)\n",
    "df_filling['Experience'].fillna(df['Experience'].median(), inplace=True)\n",
    "\n",
    "# to find nulls\n",
    "print(df_filling.isnull())\n",
    "\n",
    "# to find nulls\n",
    "plt.figure(figsize=(6,4))\n",
    "sns.heatmap(df_filling.isnull(), cbar=False, cmap=\"inferno\")\n",
    "plt.title(\"Heatmap of Missing Data\")\n",
    "plt.show()\n",
    "\n",
    "# to compare filled values\n",
    "print(df_filling.head(20))"
   ]
  },
  {
   "cell_type": "code",
   "execution_count": 51,
   "id": "952367aa-1459-46b7-9068-236e46c2d332",
   "metadata": {},
   "outputs": [
    {
     "name": "stdout",
     "output_type": "stream",
     "text": [
      "      Age  Salary  Experience\n",
      "0   False   False       False\n",
      "1   False   False       False\n",
      "2   False   False       False\n",
      "3   False   False       False\n",
      "4   False   False       False\n",
      "5   False   False       False\n",
      "6   False   False       False\n",
      "7   False   False       False\n",
      "8   False   False       False\n",
      "9   False   False       False\n",
      "10  False   False       False\n",
      "11  False   False       False\n",
      "12  False   False       False\n",
      "13  False   False       False\n",
      "14  False   False       False\n",
      "15  False   False       False\n",
      "16  False   False       False\n",
      "17  False   False       False\n",
      "18  False   False       False\n",
      "19  False   False       False\n",
      "20  False   False       False\n",
      "21  False   False       False\n",
      "22  False   False       False\n",
      "23  False   False       False\n",
      "24  False   False       False\n",
      "25  False   False       False\n",
      "26  False   False       False\n",
      "27  False   False       False\n",
      "28  False   False       False\n",
      "29  False   False       False\n",
      "30  False   False       False\n",
      "31  False   False       False\n",
      "32  False   False       False\n",
      "33  False   False       False\n",
      "34  False   False       False\n",
      "35  False   False       False\n",
      "36  False   False       False\n",
      "37  False   False       False\n",
      "38  False   False       False\n",
      "39  False   False       False\n",
      "40  False   False       False\n",
      "41  False   False       False\n",
      "42  False   False       False\n",
      "43  False   False       False\n",
      "44  False   False       False\n",
      "45  False   False       False\n",
      "46  False   False       False\n",
      "47  False   False       False\n",
      "48  False   False       False\n",
      "49  False   False       False\n"
     ]
    },
    {
     "name": "stderr",
     "output_type": "stream",
     "text": [
      "/tmp/ipykernel_178051/4186586909.py:2: FutureWarning: A value is trying to be set on a copy of a DataFrame or Series through chained assignment using an inplace method.\n",
      "The behavior will change in pandas 3.0. This inplace method will never work because the intermediate object on which we are setting values always behaves as a copy.\n",
      "\n",
      "For example, when doing 'df[col].method(value, inplace=True)', try using 'df.method({col: value}, inplace=True)' or df[col] = df[col].method(value) instead, to perform the operation inplace on the original object.\n",
      "\n",
      "\n",
      "  df_filling_mode['Age'].fillna(df['Age'].mean(), inplace=True)\n",
      "/tmp/ipykernel_178051/4186586909.py:3: FutureWarning: A value is trying to be set on a copy of a DataFrame or Series through chained assignment using an inplace method.\n",
      "The behavior will change in pandas 3.0. This inplace method will never work because the intermediate object on which we are setting values always behaves as a copy.\n",
      "\n",
      "For example, when doing 'df[col].method(value, inplace=True)', try using 'df.method({col: value}, inplace=True)' or df[col] = df[col].method(value) instead, to perform the operation inplace on the original object.\n",
      "\n",
      "\n",
      "  df_filling_mode['Salary'].fillna(df['Salary'].mean(), inplace=True)\n",
      "/tmp/ipykernel_178051/4186586909.py:4: FutureWarning: A value is trying to be set on a copy of a DataFrame or Series through chained assignment using an inplace method.\n",
      "The behavior will change in pandas 3.0. This inplace method will never work because the intermediate object on which we are setting values always behaves as a copy.\n",
      "\n",
      "For example, when doing 'df[col].method(value, inplace=True)', try using 'df.method({col: value}, inplace=True)' or df[col] = df[col].method(value) instead, to perform the operation inplace on the original object.\n",
      "\n",
      "\n",
      "  df_filling_mode['Experience'].fillna(df['Experience'].mode()[0], inplace=True)\n"
     ]
    },
    {
     "data": {
      "image/png": "[encoded data removed]",
      "text/plain": [
       "<Figure size 600x400 with 1 Axes>"
      ]
     },
     "metadata": {},
     "output_type": "display_data"
    },
    {
     "name": "stdout",
     "output_type": "stream",
     "text": [
      "          Age   Salary  Experience\n",
      "0   40.000000  86188.0        23.0\n",
      "1   36.000000  77446.0         7.0\n",
      "2   35.000000  38892.0        29.0\n",
      "3   37.000000  86643.0         3.0\n",
      "4   56.000000  76425.0         1.0\n",
      "5   40.042553  39909.0         7.0\n",
      "6   20.000000  49617.0        29.0\n",
      "7   54.000000  50389.0        15.0\n",
      "8   20.000000  86341.0        21.0\n",
      "9   37.000000  36428.0        33.0\n",
      "10  40.042553  88820.0        25.0\n",
      "11  21.000000  72387.0         9.0\n",
      "12  41.000000  71738.0        14.0\n",
      "13  21.000000  62837.0        33.0\n",
      "14  47.000000  34890.0        11.0\n",
      "15  40.042553  45725.0        35.0\n",
      "16  39.000000  90556.0         7.0\n",
      "17  55.000000  30853.0        39.0\n",
      "18  27.000000  64763.0         6.0\n",
      "19  34.000000  95905.0        23.0\n"
     ]
    }
   ],
   "source": [
    "df_filling_mode = df.copy()\n",
    "df_filling_mode['Age'].fillna(df['Age'].mean(), inplace=True)\n",
    "df_filling_mode['Salary'].fillna(df['Salary'].mean(), inplace=True)\n",
    "df_filling_mode['Experience'].fillna(df['Experience'].mode()[0], inplace=True)\n",
    "\n",
    "# to find nulls\n",
    "print(df_filling.isnull())\n",
    "\n",
    "# to find nulls\n",
    "plt.figure(figsize=(6,4))\n",
    "sns.heatmap(df_filling.isnull(), cbar=False, cmap=\"inferno\")\n",
    "plt.title(\"Heatmap of Missing Data\")\n",
    "plt.show()\n",
    "\n",
    "# to compare filled values\n",
    "print(df_filling_mode.head(20))"
   ]
  },
  {
   "cell_type": "markdown",
   "id": "2cc21c9c-cb56-44bb-9bf0-6049de13839f",
   "metadata": {},
   "source": [
    "## Mean vs. Median vs. Mode\n",
    "\n",
    "Write a short reflection on the pros and cons of each method (mean, median, mode) for imputing missing values. Consider:\n",
    "\n",
    "**When would it be more appropriate to use each method?**\n",
    "\n",
    "Mean is best when working without outliers, an outlier will significantly affect the mean, median is best if outliers may be present, since they are unaffected by outliers. Mean and median should only be used with numeric/quantitative values.\n",
    "\n",
    "Mode is best when dealing with qualitative values, retrieving the most common value.\n",
    "    \n",
    "**What might be the downsides of using these imputation techniques on a dataset?**\n",
    "\n",
    "We're \"guessing\" or \"making up\" values to fill the null values, which means they are inaccurate. \n"
   ]
  },
  {
   "cell_type": "code",
   "execution_count": 57,
   "id": "f67ea22c-0628-41f7-a65d-16cb93439a68",
   "metadata": {},
   "outputs": [],
   "source": [
    "# double-checking there's no missing data\n",
    "df_filling_mode.isnull()\n",
    "\n",
    "# saving to csv\n",
    "df_filling_mode.to_csv('cleanedLab2_4.csv')"
   ]
  },
  {
   "cell_type": "code",
   "execution_count": null,
   "id": "4e5cf263-d559-4af6-af0e-f4fdeceb38cf",
   "metadata": {},
   "outputs": [],
   "source": []
  }
 ],
 "metadata": {
  "kernelspec": {
   "display_name": "Python 3 (ipykernel)",
   "language": "python",
   "name": "python3"
  },
  "language_info": {
   "codemirror_mode": {
    "name": "ipython",
    "version": 3
   },
   "file_extension": ".py",
   "mimetype": "text/x-python",
   "name": "python",
   "nbconvert_exporter": "python",
   "pygments_lexer": "ipython3",
   "version": "3.10.12"
  }
 },
 "nbformat": 4,
 "nbformat_minor": 5
}
