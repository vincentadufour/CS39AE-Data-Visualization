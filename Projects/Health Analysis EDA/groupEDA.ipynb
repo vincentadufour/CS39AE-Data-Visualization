{
 "cells": [
  {
   "cell_type": "code",
   "execution_count": null,
   "id": "ace51579-ba60-4366-a8eb-bb7e52f545ae",
   "metadata": {},
   "outputs": [],
   "source": [
    "import pandas as pd\n",
    "import seaborn as sns\n",
    "import matplotlib.pyplot as plt\n",
    "import numpy as np\n",
    "\n",
    "df = pd.read_csv('health_fitness_dataset.csv')\n",
    "\n",
    "print(df.head())\n",
    "\n",
    "print(df.describe())"
   ]
  },
  {
   "cell_type": "code",
   "execution_count": null,
   "id": "3a90c7b6-18e2-49d6-a3b7-0317c93aeaf7",
   "metadata": {},
   "outputs": [],
   "source": [
    "desc_stats = df.describe()\n",
    "print(desc_stats)\n",
    "print(\"------------------------\\n\")\n",
    "\n",
    "age_count = df['age'].value_counts()\n",
    "print(age_count)\n",
    "\n",
    "print(\"------------------------\\n\")\n",
    "print(df)"
   ]
  },
  {
   "cell_type": "code",
   "execution_count": null,
   "id": "78b140c2-8cc2-4f0e-8c4c-55cbadab614e",
   "metadata": {},
   "outputs": [],
   "source": [
    "# making a function to cut age into bins\n",
    "def age_cut(arr):\n",
    "    bins = np.empty(arr.shape[0])\n",
    "    for idx, x in enumerate(arr):\n",
    "        if (x >=0) & (x<20):\n",
    "            bins[idx] = 1\n",
    "        elif (x >= 21) & (x<30):\n",
    "            bins[idx] = 2\n",
    "        elif (x >= 31) & (x<40):\n",
    "            bins[idx] = 3\n",
    "        elif (x >= 41) & (x<50):\n",
    "            bins[idx] = 4\n",
    "        elif (x >= 51) & (x<60):\n",
    "            bins[idx] = 5\n",
    "        else: \n",
    "            bins[idx] = 6\n",
    "    return bins\n",
    "\n",
    "# makes a numeric column of binned ages\n",
    "binned_ages_numeric = age_cut(df['age'].to_numpy())\n",
    "df.insert(6, \"binned_ages_numeric\", binned_ages_numeric)\n",
    "\n",
    "\n",
    "# prepares converting numeric binned ages to categorical\n",
    "conversion_dict = {1: '0 to 20',\n",
    "                   2: '21 to 30',\n",
    "                   3: '31 to 40',\n",
    "                   4: '41 to 50',\n",
    "                   5: '51 to 60',\n",
    "                   6: '61+'}\n",
    "age_order = ['0 to 20', '21 to 30', '31 to 40', '41 to 50', '51 to 60', '61+']\n",
    "\n",
    "# converts numeric bins to categorical bins\n",
    "binned_ages_categorical = list(map(conversion_dict.get, binned_ages_numeric))\n",
    "df.insert(7, \"binned_ages_categorical\", binned_ages_categorical)\n",
    "\n",
    "# reorders categorical bins to make sense in legend\n",
    "df['binned_ages_categorical'] = pd.Categorical(df['binned_ages_categorical'], categories=age_order, ordered=True)\n",
    "\n",
    "# creating palette for scatterplot\n",
    "palette = {'0 to 20':'blue',\n",
    "            '21 to 30':'green',\n",
    "            '31 to 40':'yellow',\n",
    "            '41 to 50':'orange',\n",
    "            '51 to 60':'red',\n",
    "            '61+':'darkred'}\n",
    "\n",
    "print(df)"
   ]
  },
  {
   "cell_type": "code",
   "execution_count": null,
   "id": "87284071-41ab-47f7-9e23-092665c3b6f0",
   "metadata": {},
   "outputs": [],
   "source": [
    "print(df)\n",
    "\n",
    "# creating scatterplot of steps per day vs. calories burned\n",
    "plt.figure(figsize=(6,4))\n",
    "sns.scatterplot(x='steps_per_day', y='calories_burned', hue ='binned_ages_categorical', palette=palette, data=df).get_figure()\n",
    "plt.legend(loc='center right', bbox_to_anchor=(1.27,0.5))\n",
    "plt.title('Scatter Plot of Steps per Day vs. Calories Burned')\n",
    "plt.xlabel('Steps per Day')\n",
    "plt.ylabel('Calories Burned')\n",
    "plt.savefig('scatterplot.pdf', pad_inches=5)\n",
    "plt.show()\n",
    "\n",
    "\n",
    "# create a pairplot, first dropping unnecessary columns\n",
    "df.drop(columns=['person_id', 'binned_ages_numeric'], inplace=True)\n",
    "sns.pairplot(df, hue='binned_ages_categorical', palette=palette)\n",
    "plt.savefig('pairplot.png')\n",
    "plt.show()"
   ]
  },
  {
   "cell_type": "code",
   "execution_count": null,
   "id": "c672a5f1-f053-4aa2-99ca-b5c566e5a547",
   "metadata": {},
   "outputs": [],
   "source": []
  }
 ],
 "metadata": {
  "kernelspec": {
   "display_name": "Python 3 (ipykernel)",
   "language": "python",
   "name": "python3"
  },
  "language_info": {
   "codemirror_mode": {
    "name": "ipython",
    "version": 3
   },
   "file_extension": ".py",
   "mimetype": "text/x-python",
   "name": "python",
   "nbconvert_exporter": "python",
   "pygments_lexer": "ipython3",
   "version": "3.10.12"
  }
 },
 "nbformat": 4,
 "nbformat_minor": 5
}
