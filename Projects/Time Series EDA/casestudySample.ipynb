{
  "cells": [
    {
      "cell_type": "code",
      "execution_count": 1,
      "metadata": {
        "trusted": true
      },
      "outputs": [
        {
          "name": "stdout",
          "output_type": "stream",
          "text": [
            "Defaulting to user installation because normal site-packages is not writeable\n",
            "Requirement already satisfied: seaborn in /home/vincent/.local/lib/python3.10/site-packages (0.13.2)\n",
            "Requirement already satisfied: numpy!=1.24.0,>=1.20 in /home/vincent/.local/lib/python3.10/site-packages (from seaborn) (2.1.0)\n",
            "Requirement already satisfied: pandas>=1.2 in /home/vincent/.local/lib/python3.10/site-packages (from seaborn) (2.2.2)\n",
            "Requirement already satisfied: matplotlib!=3.6.1,>=3.4 in /home/vincent/.local/lib/python3.10/site-packages (from seaborn) (3.9.2)\n",
            "Requirement already satisfied: packaging>=20.0 in /home/vincent/.local/lib/python3.10/site-packages (from matplotlib!=3.6.1,>=3.4->seaborn) (24.1)\n",
            "Requirement already satisfied: pyparsing>=2.3.1 in /usr/lib/python3/dist-packages (from matplotlib!=3.6.1,>=3.4->seaborn) (2.4.7)\n",
            "Requirement already satisfied: pillow>=8 in /usr/lib/python3/dist-packages (from matplotlib!=3.6.1,>=3.4->seaborn) (9.0.1)\n",
            "Requirement already satisfied: contourpy>=1.0.1 in /home/vincent/.local/lib/python3.10/site-packages (from matplotlib!=3.6.1,>=3.4->seaborn) (1.2.1)\n",
            "Requirement already satisfied: python-dateutil>=2.7 in /home/vincent/.local/lib/python3.10/site-packages (from matplotlib!=3.6.1,>=3.4->seaborn) (2.9.0.post0)\n",
            "Requirement already satisfied: kiwisolver>=1.3.1 in /home/vincent/.local/lib/python3.10/site-packages (from matplotlib!=3.6.1,>=3.4->seaborn) (1.4.5)\n",
            "Requirement already satisfied: cycler>=0.10 in /home/vincent/.local/lib/python3.10/site-packages (from matplotlib!=3.6.1,>=3.4->seaborn) (0.12.1)\n",
            "Requirement already satisfied: fonttools>=4.22.0 in /home/vincent/.local/lib/python3.10/site-packages (from matplotlib!=3.6.1,>=3.4->seaborn) (4.53.1)\n",
            "Requirement already satisfied: tzdata>=2022.7 in /home/vincent/.local/lib/python3.10/site-packages (from pandas>=1.2->seaborn) (2024.1)\n",
            "Requirement already satisfied: pytz>=2020.1 in /usr/lib/python3/dist-packages (from pandas>=1.2->seaborn) (2022.1)\n",
            "Requirement already satisfied: six>=1.5 in /usr/lib/python3/dist-packages (from python-dateutil>=2.7->matplotlib!=3.6.1,>=3.4->seaborn) (1.16.0)\n",
            "^C\n",
            "Note: you may need to restart the kernel to use updated packages.\n"
          ]
        }
      ],
      "source": [
        "%pip install seaborn"
      ]
    },
    {
      "cell_type": "code",
      "execution_count": null,
      "metadata": {
        "trusted": true
      },
      "outputs": [],
      "source": [
        "import pandas as pd\n",
        "import numpy as np\n",
        "import matplotlib as mpl\n",
        "import matplotlib.pyplot as plt\n",
        "import seaborn as sns\n",
        "\n",
        "#Step 1\n",
        "# Load your dataset (for example, a CSV file)\n",
        "df = pd.read_csv('sample_time_series_data.csv')\n",
        "df = df.set_index('date')\n",
        "\n",
        "# Ensuring that the index is of datetime type\n",
        "df.index = pd.to_datetime(df.index)\n",
        "\n",
        "\n",
        "# Check the first few rows of the dataset\n",
        "print(df.head())\n"
      ]
    },
    {
      "cell_type": "code",
      "execution_count": null,
      "metadata": {
        "trusted": true
      },
      "outputs": [],
      "source": [
        "# Generating descriptive statistics of the DataFrame\n",
        "df.describe()"
      ]
    },
    {
      "cell_type": "code",
      "execution_count": null,
      "metadata": {
        "trusted": true
      },
      "outputs": [],
      "source": [
        "#Step 2\n",
        "\n",
        "# Setting pyplot style\n",
        "plt.style.use(\"seaborn\")\n",
        "\n",
        "# Plotting time series\n",
        "plt.figure(figsize=(10,6))\n",
        "df['value'].plot(title='Value - Time Plot')\n",
        "plt.ylabel('Value')\n",
        "plt.xlabel('Date')\n",
        "plt.show()"
      ]
    },
    {
      "cell_type": "markdown",
      "metadata": {},
      "source": [
        "The pattern showns trends of growth over year. The series is not stationary and exhibits minimum  yearly seasonality"
      ]
    },
    {
      "cell_type": "code",
      "execution_count": 14,
      "metadata": {
        "trusted": true
      },
      "outputs": [],
      "source": [
        "#Step 3: Seasonal Plots\n",
        "\n",
        "df['year'] = df.index.year\n",
        "df['month'] = df.index.month\n",
        "df.reset_index(inplace=True)\n",
        "df['week'] = df['date'].dt.isocalendar().week\n",
        "df['hour'] = df['date'].dt.hour\n",
        "df['day'] = df['date'].dt.dayofweek\n",
        "df['day_str'] = df['date'].dt.strftime('%a')\n",
        "df['year_month'] = df['date'].dt.strftime('%Y_%m')\n",
        "df.set_index('date', inplace=True)"
      ]
    },
    {
      "cell_type": "code",
      "execution_count": null,
      "metadata": {
        "trusted": true
      },
      "outputs": [],
      "source": [
        "df.head()"
      ]
    },
    {
      "cell_type": "code",
      "execution_count": null,
      "metadata": {
        "trusted": true
      },
      "outputs": [],
      "source": [
        "#Seasonal plot — Yearly\n",
        "\n",
        "np.random.seed(42)\n",
        "df_plot = df[['month', 'year', 'value']].dropna().groupby(['month', 'year']).mean()[['value']].reset_index()\n",
        "years = df_plot['year'].unique()\n",
        "colors = ['blue', 'green', 'red', 'purple', 'orange', 'cyan', 'magenta', 'yellow', 'brown', 'black']\n",
        "\n",
        "# Plotting\n",
        "plt.figure(figsize=(16,12))\n",
        "for i, y in enumerate(years):\n",
        "    if i < len(colors):  # Ensuring we don't exceed the number of available colors\n",
        "        plt.plot('month', 'value', data=df_plot[df_plot['year'] == y], color=colors[i], label=y)\n",
        "        if y == 2018:\n",
        "            plt.text(df_plot.loc[df_plot.year==y, :].shape[0]+0.3, df_plot.loc[df_plot.year==y, 'value'][-1:].values[0], y, fontsize=12, color=colors[i])\n",
        "        else:\n",
        "            plt.text(df_plot.loc[df_plot.year==y, :].shape[0]+0.1, df_plot.loc[df_plot.year==y, 'value'][-1:].values[0], y, fontsize=12, color=colors[i])\n",
        "\n",
        "\n",
        "# Setting labels and titles\n",
        "plt.gca().set(ylabel= 'Value', xlabel = 'Month')\n",
        "plt.yticks(fontsize=12, alpha=.7)\n",
        "plt.title(\"Seasonal Plot - Monthly \", fontsize=20)\n",
        "plt.ylabel('Value')\n",
        "plt.xlabel('Month')\n",
        "plt.show()\n"
      ]
    },
    {
      "cell_type": "code",
      "execution_count": null,
      "metadata": {
        "trusted": true
      },
      "outputs": [],
      "source": [
        "#Seasonal plot — Weekly\n",
        "# Preparing the data\n",
        "np.random.seed(42)\n",
        "df_plot = df[['month', 'day_str', 'value', 'day']].dropna()\n",
        "df_plot = df_plot.groupby(['day_str', 'month', 'day']).mean()[['value']].reset_index()\n",
        "df_plot = df_plot.sort_values(by='day', ascending=True)\n",
        "\n",
        "# Defining the color palette\n",
        "months = df_plot['month'].unique()\n",
        "colors = plt.cm.get_cmap('tab20', len(months)).colors  # Using a colormap from matplotlib\n",
        "\n",
        "# Plotting\n",
        "plt.figure(figsize=(16, 12))\n",
        "for i, month in enumerate(months):\n",
        "    month_data = df_plot[df_plot['month'] == month]\n",
        "    plt.plot(month_data['day_str'], month_data['value'], color=colors[i], label=month)\n",
        "    plt.text(len(month_data['day_str']) - 1, month_data['value'].iloc[-1], month, fontsize=12, color=colors[i])\n",
        "\n",
        "# Setting labels and titles\n",
        "plt.xlabel('Day of the Week')\n",
        "plt.ylabel('Value')\n",
        "plt.title('Seasonal Plot - Weekly ', fontsize=20)\n",
        "plt.xticks(fontsize=12, alpha=0.7)\n",
        "plt.yticks(fontsize=12, alpha=0.7)\n",
        "plt.legend(title='Month')\n",
        "plt.show()\n"
      ]
    },
    {
      "cell_type": "code",
      "execution_count": null,
      "metadata": {
        "trusted": true
      },
      "outputs": [],
      "source": [
        "#Boxplot\n",
        "plt.figure(figsize=(7,4))\n",
        "sns.boxplot(data=df, x='value')\n",
        "plt.xlabel('Value')\n",
        "plt.title(f'Boxplot - Value Distribution');"
      ]
    },
    {
      "cell_type": "code",
      "execution_count": null,
      "metadata": {
        "trusted": true
      },
      "outputs": [],
      "source": [
        "#Day month\n",
        "# Extracting year and month features\n",
        "df['year'] = df.index.year\n",
        "df['month'] = df.index.month\n",
        "df['year_month'] = df.index.strftime('%Y-%m')\n",
        "\n",
        "# Filtering data for years 2023 and later\n",
        "df_plot = df[df['year'] >= 2023]\n",
        "\n",
        "# Plotting boxplot\n",
        "plt.figure(figsize=(12, 6))\n",
        "sns.boxplot(x='year_month', y='value', data=df_plot)\n",
        "plt.title('Distribution of Monthly data (2023 and later)', color='red')\n",
        "plt.xlabel('Year-Month', color ='red')\n",
        "plt.ylabel('Value', color ='red')\n",
        "plt.xticks(rotation=45)\n",
        "plt.show()\n"
      ]
    },
    {
      "cell_type": "code",
      "execution_count": null,
      "metadata": {
        "trusted": true
      },
      "outputs": [],
      "source": [
        "#Day\n",
        "# Sorting the DataFrame by day of the week\n",
        "df_plot = df[['day_str', 'day', 'value']].sort_values(by='day')\n",
        "\n",
        "# Plotting boxplot\n",
        "plt.figure(figsize=(10, 6))\n",
        "sns.boxplot(x='day_str', y='value', data=df_plot)\n",
        "plt.title('Distribution  by Day of the Week', color ='red')\n",
        "plt.xlabel('Day of the Week', color ='red')\n",
        "plt.ylabel('Value', color='red')\n",
        "plt.show()\n"
      ]
    },
    {
      "cell_type": "code",
      "execution_count": null,
      "metadata": {
        "trusted": true
      },
      "outputs": [],
      "source": [
        "#Step 5: Time Series Decomposition\n",
        "\n",
        "#Importing relevant modeule\n",
        "from statsmodels.tsa.seasonal import seasonal_decompose\n",
        "\n",
        "# Filtering data for the year 2023 and reset index\n",
        "df_plot = df[df['year'] == 2023].reset_index()\n",
        "\n",
        "# Removing duplicate entries and sort by date\n",
        "df_plot = df_plot.drop_duplicates(subset=['date']).sort_values(by='date')\n",
        "df_plot.sort_index(inplace=True)\n",
        "# Setting Datetime column as index\n",
        "df_plot = df_plot.set_index('date')\n",
        "\n",
        "\n",
        "# Copying the 'Value' column for both additive and multiplicative decompose\n",
        "df_plot['Multiplicative Decompose'] = df_plot['value']\n",
        "df_plot['Additive Decompose'] = df_plot['value']\n",
        "\n",
        "# Performing additive decomposition\n",
        "result_add = seasonal_decompose(df_plot['Additive Decompose'], model='additive',period=1)\n",
        "\n",
        "# Performing multiplicative decomposition\n",
        "result_mul = seasonal_decompose(df_plot['Multiplicative Decompose'], model='multiplicative',period=1)\n",
        "\n",
        "# Plotting additive decomposition\n",
        "result_add.plot().suptitle('', fontsize=22)\n",
        "plt.xticks(rotation=45)\n",
        "\n",
        "# Plotting multiplicative decomposition\n",
        "result_mul.plot().suptitle('', fontsize=22)\n",
        "plt.xticks(rotation=45)\n",
        "\n",
        "# Displaying the plots\n",
        "plt.show()"
      ]
    },
    {
      "cell_type": "code",
      "execution_count": null,
      "metadata": {
        "trusted": true
      },
      "outputs": [],
      "source": [
        "#Step 6: Lag Analysis\n",
        "\n",
        "from statsmodels.graphics.tsaplots import plot_pacf\n",
        "\n",
        "actual = df['value']\n",
        "hours_of_interest = range(0, 1, 1)\n",
        "\n",
        "for hour in hours_of_interest:\n",
        "    hour_data = actual[actual.index.hour == hour].diff().dropna()\n",
        "    plot_pacf(hour_data, lags=10, alpha=0.01)\n",
        "    plt.title(f'Partial Autocorrelation - Hour {hour}')\n",
        "    plt.ylabel('Correlation')\n",
        "    plt.xlabel('Lags')\n",
        "    plt.show()"
      ]
    },
    {
      "cell_type": "code",
      "execution_count": null,
      "metadata": {
        "trusted": true
      },
      "outputs": [],
      "source": []
    }
  ],
  "metadata": {
    "kernelspec": {
      "display_name": "Python 3",
      "language": "python",
      "name": "python3"
    },
    "language_info": {
      "codemirror_mode": {
        "name": "ipython",
        "version": 3
      },
      "file_extension": ".py",
      "mimetype": "text/x-python",
      "name": "python",
      "nbconvert_exporter": "python",
      "pygments_lexer": "ipython3",
      "version": "3.10.12"
    }
  },
  "nbformat": 4,
  "nbformat_minor": 4
}
